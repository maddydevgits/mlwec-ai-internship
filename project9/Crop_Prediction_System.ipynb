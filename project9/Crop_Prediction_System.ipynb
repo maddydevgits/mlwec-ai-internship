{
  "nbformat": 4,
  "nbformat_minor": 0,
  "metadata": {
    "colab": {
      "provenance": []
    },
    "kernelspec": {
      "name": "python3",
      "display_name": "Python 3"
    },
    "language_info": {
      "name": "python"
    }
  },
  "cells": [
    {
      "cell_type": "code",
      "execution_count": 7,
      "metadata": {
        "id": "QGptTfNxWt8e"
      },
      "outputs": [],
      "source": [
        "import pandas as pd\n",
        "dataset=pd.read_csv('crop.csv')"
      ]
    },
    {
      "cell_type": "code",
      "source": [
        "dataset"
      ],
      "metadata": {
        "colab": {
          "base_uri": "https://localhost:8080/",
          "height": 419
        },
        "id": "WQ1FQm_0XQaC",
        "outputId": "866656b1-fe90-48fd-f343-0458454291d9"
      },
      "execution_count": 8,
      "outputs": [
        {
          "output_type": "execute_result",
          "data": {
            "text/plain": [
              "        N   P   K  temperature   humidity        ph    rainfall   label\n",
              "0      90  42  43    20.879744  82.002744  6.502985  202.935536    rice\n",
              "1      85  58  41    21.770462  80.319644  7.038096  226.655537    rice\n",
              "2      60  55  44    23.004459  82.320763  7.840207  263.964248    rice\n",
              "3      74  35  40    26.491096  80.158363  6.980401  242.864034    rice\n",
              "4      78  42  42    20.130175  81.604873  7.628473  262.717340    rice\n",
              "...   ...  ..  ..          ...        ...       ...         ...     ...\n",
              "2195  107  34  32    26.774637  66.413269  6.780064  177.774507  coffee\n",
              "2196   99  15  27    27.417112  56.636362  6.086922  127.924610  coffee\n",
              "2197  118  33  30    24.131797  67.225123  6.362608  173.322839  coffee\n",
              "2198  117  32  34    26.272418  52.127394  6.758793  127.175293  coffee\n",
              "2199  104  18  30    23.603016  60.396475  6.779833  140.937041  coffee\n",
              "\n",
              "[2200 rows x 8 columns]"
            ],
            "text/html": [
              "\n",
              "  <div id=\"df-c16fcf19-01bb-408e-8f19-c8a2085aca81\">\n",
              "    <div class=\"colab-df-container\">\n",
              "      <div>\n",
              "<style scoped>\n",
              "    .dataframe tbody tr th:only-of-type {\n",
              "        vertical-align: middle;\n",
              "    }\n",
              "\n",
              "    .dataframe tbody tr th {\n",
              "        vertical-align: top;\n",
              "    }\n",
              "\n",
              "    .dataframe thead th {\n",
              "        text-align: right;\n",
              "    }\n",
              "</style>\n",
              "<table border=\"1\" class=\"dataframe\">\n",
              "  <thead>\n",
              "    <tr style=\"text-align: right;\">\n",
              "      <th></th>\n",
              "      <th>N</th>\n",
              "      <th>P</th>\n",
              "      <th>K</th>\n",
              "      <th>temperature</th>\n",
              "      <th>humidity</th>\n",
              "      <th>ph</th>\n",
              "      <th>rainfall</th>\n",
              "      <th>label</th>\n",
              "    </tr>\n",
              "  </thead>\n",
              "  <tbody>\n",
              "    <tr>\n",
              "      <th>0</th>\n",
              "      <td>90</td>\n",
              "      <td>42</td>\n",
              "      <td>43</td>\n",
              "      <td>20.879744</td>\n",
              "      <td>82.002744</td>\n",
              "      <td>6.502985</td>\n",
              "      <td>202.935536</td>\n",
              "      <td>rice</td>\n",
              "    </tr>\n",
              "    <tr>\n",
              "      <th>1</th>\n",
              "      <td>85</td>\n",
              "      <td>58</td>\n",
              "      <td>41</td>\n",
              "      <td>21.770462</td>\n",
              "      <td>80.319644</td>\n",
              "      <td>7.038096</td>\n",
              "      <td>226.655537</td>\n",
              "      <td>rice</td>\n",
              "    </tr>\n",
              "    <tr>\n",
              "      <th>2</th>\n",
              "      <td>60</td>\n",
              "      <td>55</td>\n",
              "      <td>44</td>\n",
              "      <td>23.004459</td>\n",
              "      <td>82.320763</td>\n",
              "      <td>7.840207</td>\n",
              "      <td>263.964248</td>\n",
              "      <td>rice</td>\n",
              "    </tr>\n",
              "    <tr>\n",
              "      <th>3</th>\n",
              "      <td>74</td>\n",
              "      <td>35</td>\n",
              "      <td>40</td>\n",
              "      <td>26.491096</td>\n",
              "      <td>80.158363</td>\n",
              "      <td>6.980401</td>\n",
              "      <td>242.864034</td>\n",
              "      <td>rice</td>\n",
              "    </tr>\n",
              "    <tr>\n",
              "      <th>4</th>\n",
              "      <td>78</td>\n",
              "      <td>42</td>\n",
              "      <td>42</td>\n",
              "      <td>20.130175</td>\n",
              "      <td>81.604873</td>\n",
              "      <td>7.628473</td>\n",
              "      <td>262.717340</td>\n",
              "      <td>rice</td>\n",
              "    </tr>\n",
              "    <tr>\n",
              "      <th>...</th>\n",
              "      <td>...</td>\n",
              "      <td>...</td>\n",
              "      <td>...</td>\n",
              "      <td>...</td>\n",
              "      <td>...</td>\n",
              "      <td>...</td>\n",
              "      <td>...</td>\n",
              "      <td>...</td>\n",
              "    </tr>\n",
              "    <tr>\n",
              "      <th>2195</th>\n",
              "      <td>107</td>\n",
              "      <td>34</td>\n",
              "      <td>32</td>\n",
              "      <td>26.774637</td>\n",
              "      <td>66.413269</td>\n",
              "      <td>6.780064</td>\n",
              "      <td>177.774507</td>\n",
              "      <td>coffee</td>\n",
              "    </tr>\n",
              "    <tr>\n",
              "      <th>2196</th>\n",
              "      <td>99</td>\n",
              "      <td>15</td>\n",
              "      <td>27</td>\n",
              "      <td>27.417112</td>\n",
              "      <td>56.636362</td>\n",
              "      <td>6.086922</td>\n",
              "      <td>127.924610</td>\n",
              "      <td>coffee</td>\n",
              "    </tr>\n",
              "    <tr>\n",
              "      <th>2197</th>\n",
              "      <td>118</td>\n",
              "      <td>33</td>\n",
              "      <td>30</td>\n",
              "      <td>24.131797</td>\n",
              "      <td>67.225123</td>\n",
              "      <td>6.362608</td>\n",
              "      <td>173.322839</td>\n",
              "      <td>coffee</td>\n",
              "    </tr>\n",
              "    <tr>\n",
              "      <th>2198</th>\n",
              "      <td>117</td>\n",
              "      <td>32</td>\n",
              "      <td>34</td>\n",
              "      <td>26.272418</td>\n",
              "      <td>52.127394</td>\n",
              "      <td>6.758793</td>\n",
              "      <td>127.175293</td>\n",
              "      <td>coffee</td>\n",
              "    </tr>\n",
              "    <tr>\n",
              "      <th>2199</th>\n",
              "      <td>104</td>\n",
              "      <td>18</td>\n",
              "      <td>30</td>\n",
              "      <td>23.603016</td>\n",
              "      <td>60.396475</td>\n",
              "      <td>6.779833</td>\n",
              "      <td>140.937041</td>\n",
              "      <td>coffee</td>\n",
              "    </tr>\n",
              "  </tbody>\n",
              "</table>\n",
              "<p>2200 rows × 8 columns</p>\n",
              "</div>\n",
              "      <button class=\"colab-df-convert\" onclick=\"convertToInteractive('df-c16fcf19-01bb-408e-8f19-c8a2085aca81')\"\n",
              "              title=\"Convert this dataframe to an interactive table.\"\n",
              "              style=\"display:none;\">\n",
              "        \n",
              "  <svg xmlns=\"http://www.w3.org/2000/svg\" height=\"24px\"viewBox=\"0 0 24 24\"\n",
              "       width=\"24px\">\n",
              "    <path d=\"M0 0h24v24H0V0z\" fill=\"none\"/>\n",
              "    <path d=\"M18.56 5.44l.94 2.06.94-2.06 2.06-.94-2.06-.94-.94-2.06-.94 2.06-2.06.94zm-11 1L8.5 8.5l.94-2.06 2.06-.94-2.06-.94L8.5 2.5l-.94 2.06-2.06.94zm10 10l.94 2.06.94-2.06 2.06-.94-2.06-.94-.94-2.06-.94 2.06-2.06.94z\"/><path d=\"M17.41 7.96l-1.37-1.37c-.4-.4-.92-.59-1.43-.59-.52 0-1.04.2-1.43.59L10.3 9.45l-7.72 7.72c-.78.78-.78 2.05 0 2.83L4 21.41c.39.39.9.59 1.41.59.51 0 1.02-.2 1.41-.59l7.78-7.78 2.81-2.81c.8-.78.8-2.07 0-2.86zM5.41 20L4 18.59l7.72-7.72 1.47 1.35L5.41 20z\"/>\n",
              "  </svg>\n",
              "      </button>\n",
              "      \n",
              "  <style>\n",
              "    .colab-df-container {\n",
              "      display:flex;\n",
              "      flex-wrap:wrap;\n",
              "      gap: 12px;\n",
              "    }\n",
              "\n",
              "    .colab-df-convert {\n",
              "      background-color: #E8F0FE;\n",
              "      border: none;\n",
              "      border-radius: 50%;\n",
              "      cursor: pointer;\n",
              "      display: none;\n",
              "      fill: #1967D2;\n",
              "      height: 32px;\n",
              "      padding: 0 0 0 0;\n",
              "      width: 32px;\n",
              "    }\n",
              "\n",
              "    .colab-df-convert:hover {\n",
              "      background-color: #E2EBFA;\n",
              "      box-shadow: 0px 1px 2px rgba(60, 64, 67, 0.3), 0px 1px 3px 1px rgba(60, 64, 67, 0.15);\n",
              "      fill: #174EA6;\n",
              "    }\n",
              "\n",
              "    [theme=dark] .colab-df-convert {\n",
              "      background-color: #3B4455;\n",
              "      fill: #D2E3FC;\n",
              "    }\n",
              "\n",
              "    [theme=dark] .colab-df-convert:hover {\n",
              "      background-color: #434B5C;\n",
              "      box-shadow: 0px 1px 3px 1px rgba(0, 0, 0, 0.15);\n",
              "      filter: drop-shadow(0px 1px 2px rgba(0, 0, 0, 0.3));\n",
              "      fill: #FFFFFF;\n",
              "    }\n",
              "  </style>\n",
              "\n",
              "      <script>\n",
              "        const buttonEl =\n",
              "          document.querySelector('#df-c16fcf19-01bb-408e-8f19-c8a2085aca81 button.colab-df-convert');\n",
              "        buttonEl.style.display =\n",
              "          google.colab.kernel.accessAllowed ? 'block' : 'none';\n",
              "\n",
              "        async function convertToInteractive(key) {\n",
              "          const element = document.querySelector('#df-c16fcf19-01bb-408e-8f19-c8a2085aca81');\n",
              "          const dataTable =\n",
              "            await google.colab.kernel.invokeFunction('convertToInteractive',\n",
              "                                                     [key], {});\n",
              "          if (!dataTable) return;\n",
              "\n",
              "          const docLinkHtml = 'Like what you see? Visit the ' +\n",
              "            '<a target=\"_blank\" href=https://colab.research.google.com/notebooks/data_table.ipynb>data table notebook</a>'\n",
              "            + ' to learn more about interactive tables.';\n",
              "          element.innerHTML = '';\n",
              "          dataTable['output_type'] = 'display_data';\n",
              "          await google.colab.output.renderOutput(dataTable, element);\n",
              "          const docLink = document.createElement('div');\n",
              "          docLink.innerHTML = docLinkHtml;\n",
              "          element.appendChild(docLink);\n",
              "        }\n",
              "      </script>\n",
              "    </div>\n",
              "  </div>\n",
              "  "
            ]
          },
          "metadata": {},
          "execution_count": 8
        }
      ]
    },
    {
      "cell_type": "code",
      "source": [
        "X=dataset.iloc[:,:-1].values"
      ],
      "metadata": {
        "id": "JxRNQLpTXk33"
      },
      "execution_count": 9,
      "outputs": []
    },
    {
      "cell_type": "code",
      "source": [
        "X"
      ],
      "metadata": {
        "colab": {
          "base_uri": "https://localhost:8080/"
        },
        "id": "FrJ1JZZgX2L-",
        "outputId": "a2db6ceb-a9b8-4e7b-c84e-4c318d5d3ea1"
      },
      "execution_count": 10,
      "outputs": [
        {
          "output_type": "execute_result",
          "data": {
            "text/plain": [
              "array([[ 90.        ,  42.        ,  43.        , ...,  82.00274423,\n",
              "          6.50298529, 202.9355362 ],\n",
              "       [ 85.        ,  58.        ,  41.        , ...,  80.31964408,\n",
              "          7.03809636, 226.6555374 ],\n",
              "       [ 60.        ,  55.        ,  44.        , ...,  82.3207629 ,\n",
              "          7.84020714, 263.9642476 ],\n",
              "       ...,\n",
              "       [118.        ,  33.        ,  30.        , ...,  67.22512329,\n",
              "          6.36260785, 173.3228386 ],\n",
              "       [117.        ,  32.        ,  34.        , ...,  52.12739421,\n",
              "          6.75879255, 127.1752928 ],\n",
              "       [104.        ,  18.        ,  30.        , ...,  60.39647474,\n",
              "          6.77983261, 140.9370415 ]])"
            ]
          },
          "metadata": {},
          "execution_count": 10
        }
      ]
    },
    {
      "cell_type": "code",
      "source": [
        "Y=dataset.iloc[:,-1].values"
      ],
      "metadata": {
        "id": "7hjnhvGlYLcL"
      },
      "execution_count": 11,
      "outputs": []
    },
    {
      "cell_type": "code",
      "source": [
        "Y"
      ],
      "metadata": {
        "colab": {
          "base_uri": "https://localhost:8080/"
        },
        "id": "1ssJBNuuYWxl",
        "outputId": "872140b2-868b-4a88-868a-22a15cb7fa15"
      },
      "execution_count": 12,
      "outputs": [
        {
          "output_type": "execute_result",
          "data": {
            "text/plain": [
              "array(['rice', 'rice', 'rice', ..., 'coffee', 'coffee', 'coffee'],\n",
              "      dtype=object)"
            ]
          },
          "metadata": {},
          "execution_count": 12
        }
      ]
    },
    {
      "cell_type": "code",
      "source": [
        "from sklearn.preprocessing import StandardScaler\n",
        "ss=StandardScaler()\n",
        "X=ss.fit_transform(X)"
      ],
      "metadata": {
        "id": "glECG3xjazyc"
      },
      "execution_count": 13,
      "outputs": []
    },
    {
      "cell_type": "code",
      "source": [
        "from sklearn.model_selection import train_test_split\n",
        "X_train,X_test,Y_train,Y_test=train_test_split(X,Y,test_size=0.2)"
      ],
      "metadata": {
        "id": "v4cwPP2gbjEV"
      },
      "execution_count": 14,
      "outputs": []
    },
    {
      "cell_type": "code",
      "source": [
        "from sklearn.linear_model import LogisticRegression\n",
        "lrClassifier=LogisticRegression()\n",
        "lrClassifier.fit(X_train,Y_train)"
      ],
      "metadata": {
        "colab": {
          "base_uri": "https://localhost:8080/"
        },
        "id": "VyHxACsIcP4j",
        "outputId": "696c48df-1fd5-460d-b039-1293ff75e254"
      },
      "execution_count": 15,
      "outputs": [
        {
          "output_type": "execute_result",
          "data": {
            "text/plain": [
              "LogisticRegression()"
            ]
          },
          "metadata": {},
          "execution_count": 15
        }
      ]
    },
    {
      "cell_type": "code",
      "source": [
        "from sklearn.neighbors import KNeighborsClassifier\n",
        "knnClassifier=KNeighborsClassifier(n_neighbors=5)\n",
        "knnClassifier.fit(X_train,Y_train)"
      ],
      "metadata": {
        "colab": {
          "base_uri": "https://localhost:8080/"
        },
        "id": "33BQKYA0c8yA",
        "outputId": "b51572d5-6ca7-4d55-8cd8-44dd95845bca"
      },
      "execution_count": 16,
      "outputs": [
        {
          "output_type": "execute_result",
          "data": {
            "text/plain": [
              "KNeighborsClassifier()"
            ]
          },
          "metadata": {},
          "execution_count": 16
        }
      ]
    },
    {
      "cell_type": "code",
      "source": [
        "from sklearn.tree import DecisionTreeClassifier\n",
        "dtClassifier=DecisionTreeClassifier()\n",
        "dtClassifier.fit(X_train,Y_train)"
      ],
      "metadata": {
        "colab": {
          "base_uri": "https://localhost:8080/"
        },
        "id": "0LAvYodEebbU",
        "outputId": "6e59d5b4-5a93-4722-ff13-c952c891f34e"
      },
      "execution_count": 17,
      "outputs": [
        {
          "output_type": "execute_result",
          "data": {
            "text/plain": [
              "DecisionTreeClassifier()"
            ]
          },
          "metadata": {},
          "execution_count": 17
        }
      ]
    },
    {
      "cell_type": "code",
      "source": [
        "from sklearn.ensemble import RandomForestClassifier\n",
        "rfClassifier=RandomForestClassifier(n_estimators=300)\n",
        "rfClassifier.fit(X_train,Y_train)"
      ],
      "metadata": {
        "colab": {
          "base_uri": "https://localhost:8080/"
        },
        "id": "asVrbthofL_Q",
        "outputId": "349ff2a1-995c-43e8-d6e5-596afed69792"
      },
      "execution_count": 18,
      "outputs": [
        {
          "output_type": "execute_result",
          "data": {
            "text/plain": [
              "RandomForestClassifier(n_estimators=300)"
            ]
          },
          "metadata": {},
          "execution_count": 18
        }
      ]
    },
    {
      "cell_type": "code",
      "source": [
        "Y_lr_pred=lrClassifier.predict(X_test)\n",
        "Y_knn_pred=knnClassifier.predict(X_test)\n",
        "Y_dt_pred=dtClassifier.predict(X_test)\n",
        "Y_rf_pred=rfClassifier.predict(X_test)"
      ],
      "metadata": {
        "id": "iYnKG0bwggrT"
      },
      "execution_count": 19,
      "outputs": []
    },
    {
      "cell_type": "code",
      "source": [
        "from sklearn.metrics import accuracy_score\n",
        "print(accuracy_score(Y_lr_pred,Y_test))\n",
        "print(accuracy_score(Y_knn_pred,Y_test))\n",
        "print(accuracy_score(Y_dt_pred,Y_test))\n",
        "print(accuracy_score(Y_rf_pred,Y_test))"
      ],
      "metadata": {
        "colab": {
          "base_uri": "https://localhost:8080/"
        },
        "id": "qyDBiwVVhYLA",
        "outputId": "4aaf1529-c473-43bd-a3f5-ef6a5aec850d"
      },
      "execution_count": 20,
      "outputs": [
        {
          "output_type": "stream",
          "name": "stdout",
          "text": [
            "0.975\n",
            "0.9795454545454545\n",
            "0.9931818181818182\n",
            "0.9931818181818182\n"
          ]
        }
      ]
    },
    {
      "cell_type": "code",
      "source": [
        "rfClassifier.predict([[50,50,50,25,45,6.5,220]])"
      ],
      "metadata": {
        "colab": {
          "base_uri": "https://localhost:8080/"
        },
        "id": "BHqtLkSGiaGg",
        "outputId": "c0c2cba9-e259-41c1-ce17-fa48a1ff442b"
      },
      "execution_count": 21,
      "outputs": [
        {
          "output_type": "execute_result",
          "data": {
            "text/plain": [
              "array(['apple'], dtype=object)"
            ]
          },
          "metadata": {},
          "execution_count": 21
        }
      ]
    }
  ]
}